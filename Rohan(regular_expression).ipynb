{
 "cells": [
  {
   "attachments": {},
   "cell_type": "markdown",
   "metadata": {},
   "source": [
    "Regular Expressions"
   ]
  },
  {
   "cell_type": "code",
   "execution_count": 8,
   "metadata": {},
   "outputs": [
    {
     "name": "stdout",
     "output_type": "stream",
     "text": [
      "['2', '29', '52']\n",
      "['a', 'u', 'e', 'a', 'e', 'a']\n"
     ]
    }
   ],
   "source": [
    "import re\n",
    "\n",
    "x = 'my 2 fav numbers are 29 and 52'\n",
    "y = re.findall('[0-9]+',x)\n",
    "print(y)\n",
    "\n",
    "z = re.findall('[aeiou]+',x)\n",
    "print(z)"
   ]
  },
  {
   "cell_type": "code",
   "execution_count": 9,
   "metadata": {},
   "outputs": [
    {
     "name": "stdout",
     "output_type": "stream",
     "text": [
      "['From: using the :']\n"
     ]
    }
   ],
   "source": [
    "import re\n",
    "a = 'From: using the : character'\n",
    "b = re.findall('^F.+:',a)\n",
    "print(b)"
   ]
  },
  {
   "cell_type": "code",
   "execution_count": 10,
   "metadata": {},
   "outputs": [
    {
     "name": "stdout",
     "output_type": "stream",
     "text": [
      "['Rohan.singh@stud.srh.edu']\n"
     ]
    }
   ],
   "source": [
    "c = 'Rohan.singh@stud.srh.edu saturday noon 13:00'\n",
    "d = re.findall(('\\S+@\\S+'),c)\n",
    "print(d)"
   ]
  },
  {
   "cell_type": "code",
   "execution_count": 11,
   "metadata": {},
   "outputs": [
    {
     "name": "stdout",
     "output_type": "stream",
     "text": [
      "['stud.srh.edu']\n"
     ]
    }
   ],
   "source": [
    "e = re.findall('@([^ ]*)', c)\n",
    "print(e)\n",
    "\n",
    "#'@([^ ]*)\n",
    "#@ - the program goes through line and finds the @\n",
    "#() - this is used for extraction\n",
    "#[^ ] - matches the characters not in the list set"
   ]
  },
  {
   "cell_type": "code",
   "execution_count": 12,
   "metadata": {},
   "outputs": [
    {
     "ename": "SyntaxError",
     "evalue": "invalid syntax (2274652559.py, line 3)",
     "output_type": "error",
     "traceback": [
      "\u001b[1;36m  Input \u001b[1;32mIn [12]\u001b[1;36m\u001b[0m\n\u001b[1;33m    complete it!!\u001b[0m\n\u001b[1;37m             ^\u001b[0m\n\u001b[1;31mSyntaxError\u001b[0m\u001b[1;31m:\u001b[0m invalid syntax\n"
     ]
    }
   ],
   "source": [
    "email = open('emails.txt')\n",
    "\n",
    "complete it!!"
   ]
  },
  {
   "cell_type": "code",
   "execution_count": null,
   "metadata": {},
   "outputs": [
    {
     "name": "stdout",
     "output_type": "stream",
     "text": [
      "['$30.00']\n"
     ]
    }
   ],
   "source": [
    "import re\n",
    "az = 'We just received $30.00 for snacks.'\n",
    "ay = re.findall('\\$[0-30.]+', az)\n",
    "print(ay)"
   ]
  }
 ],
 "metadata": {
  "kernelspec": {
   "display_name": "Python 3.9.12 ('base')",
   "language": "python",
   "name": "python3"
  },
  "language_info": {
   "codemirror_mode": {
    "name": "ipython",
    "version": 3
   },
   "file_extension": ".py",
   "mimetype": "text/x-python",
   "name": "python",
   "nbconvert_exporter": "python",
   "pygments_lexer": "ipython3",
   "version": "3.9.12"
  },
  "orig_nbformat": 4,
  "vscode": {
   "interpreter": {
    "hash": "37ae7d96f9a421ca8c12a471c20156300b02b9905600a753a3d7ce55edc484e8"
   }
  }
 },
 "nbformat": 4,
 "nbformat_minor": 2
}
